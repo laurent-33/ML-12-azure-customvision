{
 "cells": [
  {
   "cell_type": "markdown",
   "metadata": {},
   "source": [
    "# Intégration IA\n",
    "\n",
    "laurent cetinsoy\n",
    "\n",
    "\n",
    "\n",
    "Ce notebook peut servir de guide pour le projet \"Intégrer une une IA dans une application existante\". \n",
    "\n",
    "**conseil : Répondez aux questions de rédaction, cela vous servir pour le rapport : il suffira d'assembler de manière cohérente les questions de rédaction **"
   ]
  },
  {
   "cell_type": "markdown",
   "metadata": {},
   "source": [
    "\n",
    "Rappel, triof, la superbe startup a le problème suivant : les utilisateurs n'indiquent pas nécessairement le bon type de plastique qu'ils mettent dans la machine ce qui déteriore la qualité du plastique recyclé.\n"
   ]
  },
  {
   "cell_type": "markdown",
   "metadata": {},
   "source": [
    "## Révision architecture client /serveur et api http"
   ]
  },
  {
   "cell_type": "markdown",
   "metadata": {},
   "source": [
    "Expliquer en un paragraphe ce qu'est l'architecture client / serveur et quels sont ses avantages. Vous accompagnerez vos explications d'un schéma fait sur https://draw.io. Veiller à la clarté du propos"
   ]
  },
  {
   "cell_type": "markdown",
   "metadata": {},
   "source": [
    "permet de séparer les données, l'application (serveur) par rapport aux requêtes (client)\n",
    "ainsi par exemple si un client tombe en panne, on peut en utiliser un autre le serveur est toujours actif"
   ]
  },
  {
   "cell_type": "markdown",
   "metadata": {},
   "source": [
    "Expliquer ce qu'est un web service et son utilité dans le développement d'applications. "
   ]
  },
  {
   "cell_type": "markdown",
   "metadata": {},
   "source": [
    "un webservice est un point d'entrée sur une application\n",
    "il permet par exemple d'envoyer une requête à l'application"
   ]
  },
  {
   "cell_type": "markdown",
   "metadata": {},
   "source": [
    "Donner des exemples d'outils permettant de créer des web services en python"
   ]
  },
  {
   "cell_type": "markdown",
   "metadata": {},
   "source": [
    "flask, API"
   ]
  },
  {
   "cell_type": "markdown",
   "metadata": {},
   "source": [
    "A l'aide de la librairie requests, envoyer une requête GET vers l'url https://nowledgeable.com/http-exercice. Afficher la réponse. "
   ]
  },
  {
   "cell_type": "code",
   "execution_count": 1,
   "metadata": {},
   "outputs": [],
   "source": [
    "url = 'https://nowledgeable.com/http-exercice'"
   ]
  },
  {
   "cell_type": "code",
   "execution_count": 5,
   "metadata": {},
   "outputs": [],
   "source": [
    "import requests"
   ]
  },
  {
   "cell_type": "code",
   "execution_count": 7,
   "metadata": {},
   "outputs": [],
   "source": [
    "response = requests.get(url)"
   ]
  },
  {
   "cell_type": "markdown",
   "metadata": {},
   "source": [
    "Convertir la réponse en dictionnaire"
   ]
  },
  {
   "cell_type": "code",
   "execution_count": 11,
   "metadata": {},
   "outputs": [
    {
     "name": "stdout",
     "output_type": "stream",
     "text": [
      "<class 'dict'>\n"
     ]
    },
    {
     "data": {
      "text/plain": [
       "{'message': 'nice nice', 'data': [1, 42, 1, 42]}"
      ]
     },
     "execution_count": 11,
     "metadata": {},
     "output_type": "execute_result"
    }
   ],
   "source": [
    "result = response.json()\n",
    "print(type(result))\n",
    "result"
   ]
  },
  {
   "cell_type": "markdown",
   "metadata": {},
   "source": [
    "Quelle différence entre une requête GET et une requête POST"
   ]
  },
  {
   "cell_type": "markdown",
   "metadata": {},
   "source": [
    "une requête get attend une réponse en retour, un résultat\n",
    "alors que la requête post envoie un message pour exécuter quelque chose par exemple"
   ]
  },
  {
   "cell_type": "markdown",
   "metadata": {},
   "source": [
    "## IA solution cloud"
   ]
  },
  {
   "cell_type": "markdown",
   "metadata": {},
   "source": [
    "Proposer une solution à base d'IA qui permettrait de résoudre le problème"
   ]
  },
  {
   "cell_type": "markdown",
   "metadata": {},
   "source": [
    "il pourrait y avoir une caméra intégrée dans le trieur qui prend en photo les objets que jettent les personnes\n",
    "ensuite un modèle entraîné classifierait l'objet automatiquement\n",
    "(au lieu de demander aux personnes de dire ce que c'est)"
   ]
  },
  {
   "cell_type": "markdown",
   "metadata": {},
   "source": [
    "Lister les différentes services clouds fournis (azure, google, amazon, ovh, etc) qui permettraient de répondre à la problématique exposée. "
   ]
  },
  {
   "cell_type": "markdown",
   "metadata": {},
   "source": [
    "azure custom vision, google AutoML Vision Object Detection, Amazon SageMaker image classification, OVHcloud AI Training"
   ]
  },
  {
   "cell_type": "markdown",
   "metadata": {},
   "source": [
    "Etablir un tableau comparatif des caractéristiques (prix, vitesse, possiblité d'utiliser l'outil avec un web service) des différents services et les synthétiser dans le tableau ci-dessous"
   ]
  },
  {
   "cell_type": "markdown",
   "metadata": {},
   "source": [
    "|        | Prix  | Web service  | etc  |   |\n",
    "|---     |---|---|---|---|\n",
    "|Azure X |   |   |   |   |\n",
    "| GCP X  |   |   |   |   |\n",
    "| etc    |   |   |   |   |"
   ]
  },
  {
   "cell_type": "markdown",
   "metadata": {},
   "source": [
    "Suite à ce comparatif, sélectionner l'outil qui vous paraît le plus adéquat pour répondre au problème en justifiant votre choix"
   ]
  },
  {
   "cell_type": "markdown",
   "metadata": {},
   "source": []
  },
  {
   "cell_type": "markdown",
   "metadata": {},
   "source": [
    "## Intégration de l'IA"
   ]
  },
  {
   "cell_type": "markdown",
   "metadata": {},
   "source": [
    "Ce notebook est accompagné d'une application flask. \n",
    "\n",
    "Installer l'application\n",
    "Elle nécessite numpy, scipy et flask en librairies (cf requirements.txt). \n",
    "Il est possible que vous rencontriez des conflits de version qu'il faudra régler. \n",
    "\n",
    "\n"
   ]
  },
  {
   "cell_type": "markdown",
   "metadata": {},
   "source": [
    " Lancer l'application et la tester"
   ]
  },
  {
   "cell_type": "markdown",
   "metadata": {},
   "source": [
    "\n",
    "Décrire brièvement l'application et ses différents écrans (pas trop dur)"
   ]
  },
  {
   "cell_type": "markdown",
   "metadata": {},
   "source": [
    "écran d'accueil / écran pour mettre un nouveau déchet / écran pour dire que déchet on a mis / écran qui dit que tout s'est bien terminé"
   ]
  },
  {
   "cell_type": "markdown",
   "metadata": {},
   "source": [
    "Ouvrir le fichier triof_app.py et indiquer la liste des urls disponible du programme ainsi que leur usage"
   ]
  },
  {
   "cell_type": "markdown",
   "metadata": {},
   "source": [
    "chemin de base '/' (accueil)\n",
    "chemin '/start' (clic lorsque l'on a mis le déchet)\n",
    "chemin '/waste/pick-type' (sélection du déchet que l'on a mis)\n",
    "chemin '/confirmation' (écran de fin avant de revenir à l'accueil)"
   ]
  },
  {
   "cell_type": "markdown",
   "metadata": {},
   "source": [
    "Le programme met à disposition une méthode permettant de \"prendre en photo\" le déchêt une fois ajouté dans la machine. Indiquer le nom du fichier contenant la méthode et le nom de la méthode"
   ]
  },
  {
   "cell_type": "markdown",
   "metadata": {},
   "source": [
    "take_trash_picture() dans utils.py"
   ]
  },
  {
   "cell_type": "markdown",
   "metadata": {},
   "source": [
    "Une fois l'IA développée, intégrer l'IA dans l'application et dans l'interface pour qu'elle réponde au mieux au problème. Expliquer votre démarche et les raisons qui vous ont poussé à faire les choix que vous avez fait."
   ]
  },
  {
   "cell_type": "markdown",
   "metadata": {},
   "source": []
  },
  {
   "cell_type": "markdown",
   "metadata": {},
   "source": [
    "Faire un screenshot de l'interface mise à jour"
   ]
  },
  {
   "cell_type": "markdown",
   "metadata": {},
   "source": []
  },
  {
   "cell_type": "markdown",
   "metadata": {},
   "source": [
    "Expliquer en quoi la solution mise en oeuvre améliore la situation"
   ]
  },
  {
   "cell_type": "markdown",
   "metadata": {},
   "source": []
  },
  {
   "cell_type": "markdown",
   "metadata": {},
   "source": [
    "Extraire les questions rédigées des notebooks et le mettre dans un document partagé. Mettre en forme le document pour que les parties aient des liens et me le partager. Inclure tout screen shot pouvant illustrer votre propos (interaface de la solution cloud, interface logiciel mis à jour, etc)"
   ]
  },
  {
   "cell_type": "markdown",
   "metadata": {},
   "source": []
  }
 ],
 "metadata": {
  "kernelspec": {
   "display_name": "Python 3",
   "language": "python",
   "name": "python3"
  },
  "language_info": {
   "codemirror_mode": {
    "name": "ipython",
    "version": 3
   },
   "file_extension": ".py",
   "mimetype": "text/x-python",
   "name": "python",
   "nbconvert_exporter": "python",
   "pygments_lexer": "ipython3",
   "version": "3.7.3"
  },
  "toc": {
   "base_numbering": 1,
   "nav_menu": {},
   "number_sections": true,
   "sideBar": true,
   "skip_h1_title": false,
   "title_cell": "Table of Contents",
   "title_sidebar": "Contents",
   "toc_cell": false,
   "toc_position": {},
   "toc_section_display": true,
   "toc_window_display": false
  }
 },
 "nbformat": 4,
 "nbformat_minor": 4
}
